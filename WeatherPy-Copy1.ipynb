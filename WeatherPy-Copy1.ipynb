{
 "cells": [
  {
   "cell_type": "code",
   "execution_count": 1,
   "id": "d950930e",
   "metadata": {},
   "outputs": [],
   "source": [
    "# Import the dependencies.\n",
    "import pandas as pd\n",
    "import matplotlib.pyplot as plt\n",
    "import numpy as np"
   ]
  },
  {
   "cell_type": "code",
   "execution_count": 2,
   "id": "e5bac807",
   "metadata": {},
   "outputs": [
    {
     "data": {
      "text/plain": [
       "<zip at 0x1313b630f88>"
      ]
     },
     "execution_count": 2,
     "metadata": {},
     "output_type": "execute_result"
    }
   ],
   "source": [
    "# Create a set of random latitude and longitude combinations.\n",
    "lats = np.random.uniform(low=-90.000, high=90.000, size=2000)\n",
    "lngs = np.random.uniform(low=-180.000, high=180.000, size=2000)\n",
    "lat_lngs = zip(lats, lngs)\n",
    "lat_lngs"
   ]
  },
  {
   "cell_type": "code",
   "execution_count": 3,
   "id": "f36f65f1",
   "metadata": {},
   "outputs": [],
   "source": [
    "# Add the latitudes and longitudes to a list.\n",
    "coordinates = list(lat_lngs)"
   ]
  },
  {
   "cell_type": "code",
   "execution_count": 4,
   "id": "43b94a0c",
   "metadata": {},
   "outputs": [],
   "source": [
    "# Use the citipy module to determine city based on latitude and longitude.\n",
    "from citipy import citipy"
   ]
  },
  {
   "cell_type": "code",
   "execution_count": 5,
   "id": "0ccedbd6",
   "metadata": {},
   "outputs": [
    {
     "data": {
      "text/plain": [
       "757"
      ]
     },
     "execution_count": 5,
     "metadata": {},
     "output_type": "execute_result"
    }
   ],
   "source": [
    "# Create a list for holding the cities.\n",
    "cities = []\n",
    "# Identify the nearest city for each latitude and longitude combination.\n",
    "for coordinate in coordinates:\n",
    "    city = citipy.nearest_city(coordinate[0], coordinate[1]).city_name\n",
    "\n",
    "    # If the city is unique, then we will add it to the cities list.\n",
    "    if city not in cities:\n",
    "        cities.append(city)\n",
    "# Print the city count to confirm sufficient count.\n",
    "len(cities)"
   ]
  },
  {
   "cell_type": "code",
   "execution_count": 6,
   "id": "845808ec",
   "metadata": {},
   "outputs": [
    {
     "data": {
      "text/plain": [
       "757"
      ]
     },
     "execution_count": 6,
     "metadata": {},
     "output_type": "execute_result"
    }
   ],
   "source": [
    "len(cities)"
   ]
  },
  {
   "cell_type": "code",
   "execution_count": 7,
   "id": "1879b0a7",
   "metadata": {},
   "outputs": [],
   "source": [
    "# Import the requests library.\n",
    "import requests\n",
    "\n",
    "# Import the API key.\n",
    "from config import weather_api_key"
   ]
  },
  {
   "cell_type": "code",
   "execution_count": 8,
   "id": "177fa45f",
   "metadata": {},
   "outputs": [],
   "source": [
    "# Starting URL for Weather Map API Call.\n",
    "url = \"http://api.openweathermap.org/data/2.5/weather?units=Imperial&APPID=\" + weather_api_key"
   ]
  },
  {
   "cell_type": "code",
   "execution_count": 9,
   "id": "161f7ae6",
   "metadata": {},
   "outputs": [],
   "source": [
    "# Import the time library and the datetime module from the datetime library \n",
    "import time\n",
    "from datetime import datetime"
   ]
  },
  {
   "cell_type": "code",
   "execution_count": null,
   "id": "309b6bc5",
   "metadata": {
    "scrolled": true
   },
   "outputs": [
    {
     "name": "stdout",
     "output_type": "stream",
     "text": [
      "Beginning Data Retrieval     \n",
      "-----------------------------\n",
      "Processing Record 1 of Set 1 | iqaluit\n",
      "City not found. Skipping...\n",
      "Processing Record 2 of Set 1 | kaitangata\n",
      "City not found. Skipping...\n",
      "Processing Record 3 of Set 1 | khatanga\n",
      "City not found. Skipping...\n",
      "Processing Record 4 of Set 1 | rikitea\n",
      "City not found. Skipping...\n",
      "Processing Record 5 of Set 1 | nome\n",
      "City not found. Skipping...\n",
      "Processing Record 6 of Set 1 | kousseri\n",
      "City not found. Skipping...\n",
      "Processing Record 7 of Set 1 | taolanaro\n",
      "City not found. Skipping...\n",
      "Processing Record 8 of Set 1 | burica\n",
      "City not found. Skipping...\n",
      "Processing Record 9 of Set 1 | samarai\n",
      "City not found. Skipping...\n",
      "Processing Record 10 of Set 1 | kodiak\n",
      "City not found. Skipping...\n",
      "Processing Record 11 of Set 1 | vostok\n",
      "City not found. Skipping...\n",
      "Processing Record 12 of Set 1 | bethel\n",
      "City not found. Skipping...\n",
      "Processing Record 13 of Set 1 | sao filipe\n",
      "City not found. Skipping...\n",
      "Processing Record 14 of Set 1 | kieta\n",
      "City not found. Skipping...\n",
      "Processing Record 15 of Set 1 | castro\n",
      "City not found. Skipping...\n",
      "Processing Record 16 of Set 1 | sitka\n",
      "City not found. Skipping...\n",
      "Processing Record 17 of Set 1 | pisco\n",
      "City not found. Skipping...\n",
      "Processing Record 18 of Set 1 | launceston\n",
      "City not found. Skipping...\n",
      "Processing Record 19 of Set 1 | najran\n",
      "City not found. Skipping...\n",
      "Processing Record 20 of Set 1 | darhan\n",
      "City not found. Skipping...\n",
      "Processing Record 21 of Set 1 | christchurch\n",
      "City not found. Skipping...\n",
      "Processing Record 22 of Set 1 | kapaa\n",
      "City not found. Skipping...\n",
      "Processing Record 23 of Set 1 | tomatlan\n",
      "City not found. Skipping...\n",
      "Processing Record 24 of Set 1 | thompson\n",
      "City not found. Skipping...\n",
      "Processing Record 25 of Set 1 | jamestown\n",
      "City not found. Skipping...\n",
      "Processing Record 26 of Set 1 | bluff\n",
      "City not found. Skipping...\n",
      "Processing Record 27 of Set 1 | sibolga\n",
      "City not found. Skipping...\n",
      "Processing Record 28 of Set 1 | tiksi\n",
      "City not found. Skipping...\n",
      "Processing Record 29 of Set 1 | hithadhoo\n",
      "City not found. Skipping...\n",
      "Processing Record 30 of Set 1 | ushuaia\n",
      "City not found. Skipping...\n",
      "Processing Record 31 of Set 1 | kavieng\n",
      "City not found. Skipping...\n",
      "Processing Record 32 of Set 1 | illoqqortoormiut\n",
      "City not found. Skipping...\n",
      "Processing Record 33 of Set 1 | santa cruz cabralia\n",
      "City not found. Skipping...\n",
      "Processing Record 34 of Set 1 | barentsburg\n",
      "City not found. Skipping...\n",
      "Processing Record 35 of Set 1 | lodja\n",
      "City not found. Skipping...\n",
      "Processing Record 36 of Set 1 | punta arenas\n",
      "City not found. Skipping...\n",
      "Processing Record 37 of Set 1 | avera\n",
      "City not found. Skipping...\n",
      "Processing Record 38 of Set 1 | hit\n",
      "City not found. Skipping...\n",
      "Processing Record 39 of Set 1 | waipawa\n",
      "City not found. Skipping...\n",
      "Processing Record 40 of Set 1 | chokurdakh\n",
      "City not found. Skipping...\n",
      "Processing Record 41 of Set 1 | barrow\n",
      "City not found. Skipping...\n",
      "Processing Record 42 of Set 1 | vaini\n",
      "City not found. Skipping...\n",
      "Processing Record 43 of Set 1 | taksimo\n",
      "City not found. Skipping...\n",
      "Processing Record 44 of Set 1 | busselton\n",
      "City not found. Skipping...\n",
      "Processing Record 45 of Set 1 | tuatapere\n",
      "City not found. Skipping...\n",
      "Processing Record 46 of Set 1 | new norfolk\n",
      "City not found. Skipping...\n",
      "Processing Record 47 of Set 1 | praya\n",
      "City not found. Skipping...\n",
      "Processing Record 48 of Set 1 | teya\n",
      "City not found. Skipping...\n",
      "Processing Record 49 of Set 1 | riyadh\n",
      "City not found. Skipping...\n",
      "Processing Record 50 of Set 1 | zhuhai\n",
      "City not found. Skipping...\n",
      "Processing Record 1 of Set 2 | butaritari\n",
      "City not found. Skipping...\n",
      "Processing Record 2 of Set 2 | ucluelet\n",
      "City not found. Skipping...\n",
      "Processing Record 3 of Set 2 | mataura\n",
      "City not found. Skipping...\n",
      "Processing Record 4 of Set 2 | baoding\n",
      "City not found. Skipping...\n",
      "Processing Record 5 of Set 2 | omboue\n",
      "City not found. Skipping...\n",
      "Processing Record 6 of Set 2 | minchinabad\n",
      "City not found. Skipping...\n",
      "Processing Record 7 of Set 2 | norman wells\n",
      "City not found. Skipping...\n",
      "Processing Record 8 of Set 2 | hualmay\n",
      "City not found. Skipping...\n",
      "Processing Record 9 of Set 2 | muana\n",
      "City not found. Skipping...\n",
      "Processing Record 10 of Set 2 | ketchikan\n",
      "City not found. Skipping...\n",
      "Processing Record 11 of Set 2 | joetsu\n",
      "City not found. Skipping...\n",
      "Processing Record 12 of Set 2 | cabo san lucas\n",
      "City not found. Skipping...\n",
      "Processing Record 13 of Set 2 | dikson\n",
      "City not found. Skipping...\n",
      "Processing Record 14 of Set 2 | namibe\n",
      "City not found. Skipping...\n",
      "Processing Record 15 of Set 2 | gao\n",
      "City not found. Skipping...\n",
      "Processing Record 16 of Set 2 | codrington\n",
      "City not found. Skipping...\n",
      "Processing Record 17 of Set 2 | sobolevo\n",
      "City not found. Skipping...\n",
      "Processing Record 18 of Set 2 | west bay\n",
      "City not found. Skipping...\n",
      "Processing Record 19 of Set 2 | agutaya\n",
      "City not found. Skipping...\n",
      "Processing Record 20 of Set 2 | ilhabela\n",
      "City not found. Skipping...\n",
      "Processing Record 21 of Set 2 | port elizabeth\n",
      "City not found. Skipping...\n",
      "Processing Record 22 of Set 2 | dzhusaly\n",
      "City not found. Skipping...\n",
      "Processing Record 23 of Set 2 | hobart\n",
      "City not found. Skipping...\n",
      "Processing Record 24 of Set 2 | albany\n",
      "City not found. Skipping...\n",
      "Processing Record 25 of Set 2 | itarema\n",
      "City not found. Skipping...\n",
      "Processing Record 26 of Set 2 | saint-philippe\n",
      "City not found. Skipping...\n",
      "Processing Record 27 of Set 2 | grindavik\n",
      "City not found. Skipping...\n",
      "Processing Record 28 of Set 2 | fort dodge\n",
      "City not found. Skipping...\n",
      "Processing Record 29 of Set 2 | east london\n",
      "City not found. Skipping...\n",
      "Processing Record 30 of Set 2 | san patricio\n",
      "City not found. Skipping...\n",
      "Processing Record 31 of Set 2 | upernavik\n",
      "City not found. Skipping...\n",
      "Processing Record 32 of Set 2 | houma\n",
      "City not found. Skipping...\n",
      "Processing Record 33 of Set 2 | bulawayo\n",
      "City not found. Skipping...\n",
      "Processing Record 34 of Set 2 | hilo\n",
      "City not found. Skipping...\n",
      "Processing Record 35 of Set 2 | avarua\n",
      "City not found. Skipping...\n",
      "Processing Record 36 of Set 2 | walvis bay\n",
      "City not found. Skipping...\n",
      "Processing Record 37 of Set 2 | denpasar\n",
      "City not found. Skipping...\n",
      "Processing Record 38 of Set 2 | balad\n",
      "City not found. Skipping...\n",
      "Processing Record 39 of Set 2 | half moon bay\n",
      "City not found. Skipping...\n",
      "Processing Record 40 of Set 2 | saldanha\n",
      "City not found. Skipping...\n",
      "Processing Record 41 of Set 2 | aklavik\n",
      "City not found. Skipping...\n",
      "Processing Record 42 of Set 2 | katsuura\n",
      "City not found. Skipping...\n",
      "Processing Record 43 of Set 2 | pevek\n",
      "City not found. Skipping...\n",
      "Processing Record 44 of Set 2 | hermanus\n",
      "City not found. Skipping...\n",
      "Processing Record 45 of Set 2 | grand gaube\n",
      "City not found. Skipping...\n",
      "Processing Record 46 of Set 2 | fulitun\n",
      "City not found. Skipping...\n",
      "Processing Record 47 of Set 2 | arraial do cabo\n",
      "City not found. Skipping...\n",
      "Processing Record 48 of Set 2 | nizhneyansk\n",
      "City not found. Skipping...\n",
      "Processing Record 49 of Set 2 | komsomolskiy\n",
      "City not found. Skipping...\n",
      "Processing Record 50 of Set 2 | lebane\n",
      "City not found. Skipping...\n"
     ]
    }
   ],
   "source": [
    "# Create an empty list to hold the weather data.\n",
    "city_data = []\n",
    "# Print the beginning of the logging.\n",
    "print(\"Beginning Data Retrieval     \")\n",
    "print(\"-----------------------------\")\n",
    "\n",
    "# Create counters.\n",
    "record_count = 1\n",
    "set_count = 1\n",
    "\n",
    "# Loop through all the cities in the list.\n",
    "for i, city in enumerate(cities):\n",
    "\n",
    "    # Group cities in sets of 50 for logging purposes.\n",
    "    if (i % 50 == 0 and i >= 50):\n",
    "        set_count += 1\n",
    "        record_count = 1\n",
    "        time.sleep(60)\n",
    "\n",
    "    # Create endpoint URL with each city.\n",
    "    city_url = url + \"&q=\" + city.replace(\" \",\"+\")\n",
    "\n",
    "    # Log the URL, record, and set numbers and the city.\n",
    "    print(f\"Processing Record {record_count} of Set {set_count} | {city}\")\n",
    "    # Add 1 to the record count.\n",
    "    record_count += 1\n",
    "\n",
    "# Run an API request for each of the cities.\n",
    "    try:\n",
    "        # Parse the JSON and retrieve data.\n",
    "        city_weather = requests.get(city_url).json()\n",
    "        # Parse out the needed data.\n",
    "        city_lat = city_weather[\"coord\"][\"lat\"]\n",
    "        city_lng = city_weather[\"coord\"][\"lon\"]\n",
    "        city_max_temp = city_weather[\"main\"][\"temp_max\"]\n",
    "        city_humidity = city_weather[\"main\"][\"humidity\"]\n",
    "        city_clouds = city_weather[\"clouds\"][\"all\"]\n",
    "        city_wind = city_weather[\"wind\"][\"speed\"]\n",
    "        city_country = city_weather[\"sys\"][\"country\"]\n",
    "        # Convert the date to ISO standard.\n",
    "        city_currentd = city_weather[\"weather\"][\"description\"]\n",
    "        # Append the city information into city_data list.\n",
    "        city_data.append({\"City\": city.title(),\n",
    "                          \"Lat\": city_lat,\n",
    "                          \"Lng\": city_lng,\n",
    "                          \"Max Temp\": city_max_temp,\n",
    "                          \"Humidity\": city_humidity,\n",
    "                          \"Cloudiness\": city_clouds,\n",
    "                          \"Wind Speed\": city_wind,\n",
    "                          \"Country\": city_country,\n",
    "                          \"Current Description\": city_currentd})\n",
    "\n",
    "# If an error is experienced, skip the city.\n",
    "    except:\n",
    "        print(\"City not found. Skipping...\")\n",
    "        pass\n",
    "\n",
    "# Indicate that Data Loading is complete.\n",
    "print(\"-----------------------------\")\n",
    "print(\"Data Retrieval Complete      \")\n",
    "print(\"-----------------------------\")"
   ]
  },
  {
   "cell_type": "code",
   "execution_count": null,
   "id": "e4a8521f",
   "metadata": {},
   "outputs": [],
   "source": [
    "len(city_data)"
   ]
  },
  {
   "cell_type": "code",
   "execution_count": null,
   "id": "f9b22c80",
   "metadata": {
    "scrolled": true
   },
   "outputs": [],
   "source": [
    "# Convert the array of dictionaries to a Pandas DataFrame.\n",
    "city_data_df = pd.DataFrame(city_data)\n",
    "city_data_df.head(10)"
   ]
  },
  {
   "cell_type": "code",
   "execution_count": null,
   "id": "e274bd2c",
   "metadata": {
    "scrolled": true
   },
   "outputs": [],
   "source": [
    "city_data_df.keys()"
   ]
  },
  {
   "cell_type": "code",
   "execution_count": null,
   "id": "50c59daa",
   "metadata": {},
   "outputs": [],
   "source": [
    "new_column_order = [\"City\", \"Country\", \"Date\", \"Lat\", \"Lng\", \"Max Temp\", \"Humidity\", \"Cloudiness\", \"Wind Speed\"]"
   ]
  },
  {
   "cell_type": "code",
   "execution_count": null,
   "id": "5d4438e2",
   "metadata": {},
   "outputs": [],
   "source": [
    "city_data_df = city_data_df[new_column_order]"
   ]
  },
  {
   "cell_type": "code",
   "execution_count": null,
   "id": "7871d6ce",
   "metadata": {},
   "outputs": [],
   "source": [
    "city_data_df.head(10)"
   ]
  },
  {
   "cell_type": "code",
   "execution_count": null,
   "id": "ec5dd81c",
   "metadata": {},
   "outputs": [],
   "source": [
    "len(city_data_df)"
   ]
  },
  {
   "cell_type": "code",
   "execution_count": null,
   "id": "d5527757",
   "metadata": {},
   "outputs": [],
   "source": [
    "# Create the output file (CSV).\n",
    "output_data_file = \"weather_data/cities.csv\"\n",
    "# Export the City_Data into a CSV.\n",
    "city_data_df.to_csv(output_data_file, index_label=\"City_ID\")"
   ]
  },
  {
   "cell_type": "code",
   "execution_count": null,
   "id": "aa6f5d6d",
   "metadata": {},
   "outputs": [],
   "source": []
  },
  {
   "cell_type": "code",
   "execution_count": null,
   "id": "9ef7e991",
   "metadata": {},
   "outputs": [],
   "source": [
    "# Extract relevant fields from the DataFrame for plotting.\n",
    "lats = city_data_df[\"Lat\"]\n",
    "max_temps = city_data_df[\"Max Temp\"]\n",
    "humidity = city_data_df[\"Humidity\"]\n",
    "cloudiness = city_data_df[\"Cloudiness\"]\n",
    "wind_speed = city_data_df[\"Wind Speed\"]"
   ]
  },
  {
   "cell_type": "code",
   "execution_count": null,
   "id": "6b345b91",
   "metadata": {},
   "outputs": [],
   "source": [
    "# Import time module\n",
    "import time\n",
    "\n",
    "# Build the scatter plot for latitude vs. max temperature.\n",
    "plt.scatter(lats,\n",
    "            max_temps,\n",
    "            edgecolor=\"black\", linewidths=1, marker=\"o\",\n",
    "            alpha=0.8, label=\"Cities\")\n",
    "\n",
    "# Incorporate the other graph properties.\n",
    "plt.title(f\"City Latitude vs. Max Temperature \"+ time.strftime(\"%x\"))\n",
    "plt.ylabel(\"Max Temperature (F)\")\n",
    "plt.xlabel(\"Latitude\")\n",
    "plt.grid(True)\n",
    "\n",
    "# Save the figure.\n",
    "plt.savefig(\"weather_data/Fig1.png\")\n",
    "\n",
    "# Show plot.\n",
    "plt.show()"
   ]
  },
  {
   "cell_type": "code",
   "execution_count": null,
   "id": "da13fe74",
   "metadata": {},
   "outputs": [],
   "source": [
    "# Build the scatter plots for latitude vs. humidity.\n",
    "plt.scatter(lats,\n",
    "            humidity,\n",
    "            edgecolor=\"black\", linewidths=1, marker=\"o\",\n",
    "            alpha=0.8, label=\"Cities\")\n",
    "\n",
    "# Incorporate the other graph properties.\n",
    "plt.title(f\"City Latitude vs. Humidity \"+ time.strftime(\"%x\"))\n",
    "plt.ylabel(\"Humidity (%)\")\n",
    "plt.xlabel(\"Latitude\")\n",
    "plt.grid(True)\n",
    "# Save the figure.\n",
    "plt.savefig(\"weather_data/Fig2.png\")\n",
    "# Show plot.\n",
    "plt.show()"
   ]
  },
  {
   "cell_type": "code",
   "execution_count": null,
   "id": "14e82f76",
   "metadata": {},
   "outputs": [],
   "source": [
    "# Build the scatter plots for latitude vs. cloudiness.\n",
    "plt.scatter(lats,\n",
    "            cloudiness,\n",
    "            edgecolor=\"black\", linewidths=1, marker=\"o\",\n",
    "            alpha=0.8, label=\"Cities\")\n",
    "\n",
    "# Incorporate the other graph properties.\n",
    "plt.title(f\"City Latitude vs. Cloudiness (%) \"+ time.strftime(\"%x\"))\n",
    "plt.ylabel(\"Cloudiness (%)\")\n",
    "plt.xlabel(\"Latitude\")\n",
    "plt.grid(True)\n",
    "# Save the figure.\n",
    "plt.savefig(\"weather_data/Fig3.png\")\n",
    "# Show plot.\n",
    "plt.show()"
   ]
  },
  {
   "cell_type": "code",
   "execution_count": null,
   "id": "18d789dd",
   "metadata": {},
   "outputs": [],
   "source": [
    "# Build the scatter plots for latitude vs. wind speed.\n",
    "plt.scatter(lats,\n",
    "            wind_speed,\n",
    "            edgecolor=\"black\", linewidths=1, marker=\"o\",\n",
    "            alpha=0.8, label=\"Cities\")\n",
    "\n",
    "# Incorporate the other graph properties.\n",
    "plt.title(f\"City Latitude vs. Wind Speed \"+ time.strftime(\"%x\"))\n",
    "plt.ylabel(\"Wind Speed (mph)\")\n",
    "plt.xlabel(\"Latitude\")\n",
    "plt.grid(True)\n",
    "# Save the figure.\n",
    "plt.savefig(\"weather_data/Fig4.png\")\n",
    "# Show plot.\n",
    "plt.show()"
   ]
  },
  {
   "cell_type": "code",
   "execution_count": null,
   "id": "f82a2158",
   "metadata": {},
   "outputs": [],
   "source": [
    "# To get an output from a function, we need to call the function with the correct number of parameters \n",
    "# or arguments for the function."
   ]
  },
  {
   "cell_type": "code",
   "execution_count": null,
   "id": "dfb7a138",
   "metadata": {},
   "outputs": [],
   "source": [
    "index13 = city_data_df.loc[13]\n",
    "index13 "
   ]
  },
  {
   "cell_type": "code",
   "execution_count": null,
   "id": "09e7d936",
   "metadata": {},
   "outputs": [],
   "source": [
    "city_data_df[\"Lat\"] >= 0"
   ]
  },
  {
   "cell_type": "code",
   "execution_count": null,
   "id": "b685c5e4",
   "metadata": {},
   "outputs": [],
   "source": [
    "city_data_df.loc[(city_data_df[\"Lat\"] >= 0)].head()"
   ]
  },
  {
   "cell_type": "code",
   "execution_count": null,
   "id": "d6d13d80",
   "metadata": {},
   "outputs": [],
   "source": [
    "# Create Northern and Southern Hemisphere DataFrames.\n",
    "northern_hemi_df = city_data_df.loc[(city_data_df[\"Lat\"] >= 0)]\n",
    "southern_hemi_df = city_data_df.loc[(city_data_df[\"Lat\"] < 0)]"
   ]
  },
  {
   "cell_type": "code",
   "execution_count": null,
   "id": "dc1abfa6",
   "metadata": {},
   "outputs": [],
   "source": [
    "# Import linregress\n",
    "from scipy.stats import linregress\n",
    "\n",
    "# Create a function to create perform linear regression on the weather data\n",
    "# and plot a regression line and the equation with the data.\n",
    "def plot_linear_regression(x_values, y_values, title, y_label, text_coordinates):\n",
    "\n",
    "    # Run regression on hemisphere weather data.\n",
    "    (slope, intercept, r_value, p_value, std_err) = linregress(x_values, y_values)\n",
    "\n",
    "    # Calculate the regression line \"y values\" from the slope and intercept.\n",
    "    regress_values = x_values * slope + intercept\n",
    "    # Get the equation of the line.\n",
    "    line_eq = \"y = \" + str(round(slope,2)) + \"x + \" + str(round(intercept,2))\n",
    "    # Create a scatter plot and plot the regression line.\n",
    "    plt.scatter(x_values,y_values)\n",
    "    plt.plot(x_values,regress_values,\"r\")\n",
    "    # Annotate the text for the line equation.\n",
    "    plt.annotate(line_eq, text_coordinates, fontsize=15, color=\"red\")\n",
    "    plt.title(title)\n",
    "    plt.xlabel('Latitude')\n",
    "    plt.ylabel(y_label)\n",
    "    plt.show()"
   ]
  },
  {
   "cell_type": "code",
   "execution_count": null,
   "id": "634f69bb",
   "metadata": {},
   "outputs": [],
   "source": [
    "# Linear regression on the Northern Hemisphere\n",
    "x_values = northern_hemi_df[\"Lat\"]\n",
    "y_values = northern_hemi_df[\"Max Temp\"]\n",
    "# Call the function.\n",
    "plot_linear_regression(x_values, y_values,\n",
    "                       'Linear Regression on the Northern Hemisphere \\n for Maximum Temperature', 'Max Temp',(0,-40))"
   ]
  },
  {
   "cell_type": "code",
   "execution_count": null,
   "id": "62b66414",
   "metadata": {},
   "outputs": [],
   "source": [
    "# Linear regression on the Southern Hemisphere\n",
    "x_values = southern_hemi_df[\"Lat\"]\n",
    "y_values = southern_hemi_df[\"Max Temp\"]\n",
    "# Call the function.\n",
    "plot_linear_regression(x_values, y_values,\n",
    "                       'Linear Regression on the Southern Hemisphere \\n for Maximum Temperature', 'Max Temp',(-50,90))"
   ]
  },
  {
   "cell_type": "code",
   "execution_count": null,
   "id": "0f498325",
   "metadata": {},
   "outputs": [],
   "source": [
    "# Linear regression on the Northern Hemisphere\n",
    "x_values = northern_hemi_df[\"Lat\"]\n",
    "y_values = northern_hemi_df[\"Humidity\"]\n",
    "# Call the function.\n",
    "plot_linear_regression(x_values, y_values,\n",
    "                       'Linear Regression on the Northern Hemisphere \\n for % Humidity', '% Humidity',(40,10))"
   ]
  },
  {
   "cell_type": "code",
   "execution_count": null,
   "id": "779f02ce",
   "metadata": {},
   "outputs": [],
   "source": [
    "# Linear regression on the Southern Hemisphere\n",
    "x_values = southern_hemi_df[\"Lat\"]\n",
    "y_values = southern_hemi_df[\"Humidity\"]\n",
    "# Call the function.\n",
    "plot_linear_regression(x_values, y_values,\n",
    "                       'Linear Regression on the Southern Hemisphere \\n for % Humidity', '% Humidity',(-25,15))"
   ]
  },
  {
   "cell_type": "code",
   "execution_count": null,
   "id": "c6bfa184",
   "metadata": {},
   "outputs": [],
   "source": [
    "from scipy.stats import linregress\n",
    "linregress(southern_hemi_df[\"Lat\"],southern_hemi_df[\"Humidity\"])"
   ]
  },
  {
   "cell_type": "code",
   "execution_count": null,
   "id": "1699b221",
   "metadata": {},
   "outputs": [],
   "source": [
    "(slope, intercept, rval, pval, stderr) = linregress(southern_hemi_df[\"Lat\"],southern_hemi_df[\"Humidity\"])"
   ]
  },
  {
   "cell_type": "code",
   "execution_count": null,
   "id": "d3d5c5fa",
   "metadata": {},
   "outputs": [],
   "source": [
    "line_eq = \"y = \" +  str(round(slope,2)) + \"x + \" + str(round(intercept,2))\n",
    "print(line_eq)"
   ]
  },
  {
   "cell_type": "code",
   "execution_count": null,
   "id": "213edd81",
   "metadata": {},
   "outputs": [],
   "source": [
    "r_value = str(round(rval,2))\n",
    "print(r_value)"
   ]
  },
  {
   "cell_type": "code",
   "execution_count": null,
   "id": "784b8cc7",
   "metadata": {},
   "outputs": [],
   "source": []
  },
  {
   "cell_type": "code",
   "execution_count": null,
   "id": "0562f8fb",
   "metadata": {
    "scrolled": true
   },
   "outputs": [],
   "source": [
    "# Linear regression on the Northern Hemisphere\n",
    "x_values = northern_hemi_df[\"Lat\"]\n",
    "y_values = northern_hemi_df[\"Cloudiness\"]\n",
    "# Call the function.\n",
    "plot_linear_regression(x_values, y_values,\n",
    "                       'Linear Regression on the Northern Hemisphere \\n for % Cloudiness', '% Cloudiness',(30,30))"
   ]
  },
  {
   "cell_type": "code",
   "execution_count": null,
   "id": "fbee07ef",
   "metadata": {},
   "outputs": [],
   "source": [
    "linregress(northern_hemi_df[\"Lat\"],northern_hemi_df[\"Cloudiness\"])"
   ]
  },
  {
   "cell_type": "code",
   "execution_count": null,
   "id": "4586d2df",
   "metadata": {
    "scrolled": true
   },
   "outputs": [],
   "source": [
    "# Linear regression on the Southern Hemisphere\n",
    "x_values = southern_hemi_df[\"Lat\"]\n",
    "y_values = southern_hemi_df[\"Cloudiness\"]\n",
    "# Call the function.\n",
    "plot_linear_regression(x_values, y_values,\n",
    "                       'Linear Regression on the Southern Hemisphere \\n for % Cloudiness', '% Cloudiness',(-55,11))"
   ]
  },
  {
   "cell_type": "code",
   "execution_count": null,
   "id": "22b63e1e",
   "metadata": {},
   "outputs": [],
   "source": [
    "linregress(southern_hemi_df[\"Lat\"],southern_hemi_df[\"Cloudiness\"])"
   ]
  },
  {
   "cell_type": "code",
   "execution_count": null,
   "id": "03de37fb",
   "metadata": {
    "scrolled": true
   },
   "outputs": [],
   "source": [
    "# Linear regression on the Northern Hemisphere\n",
    "x_values = northern_hemi_df[\"Lat\"]\n",
    "y_values = northern_hemi_df[\"Wind Speed\"]\n",
    "# Call the function.\n",
    "plot_linear_regression(x_values, y_values,\n",
    "                       'Linear Regression on the Northern Hemisphere \\n for Wind Speed', 'Wind Speed',(40,27))"
   ]
  },
  {
   "cell_type": "code",
   "execution_count": null,
   "id": "ad0e2700",
   "metadata": {},
   "outputs": [],
   "source": [
    "linregress(northern_hemi_df[\"Lat\"],northern_hemi_df[\"Wind Speed\"])"
   ]
  },
  {
   "cell_type": "code",
   "execution_count": null,
   "id": "8bcba3fc",
   "metadata": {
    "scrolled": true
   },
   "outputs": [],
   "source": [
    "# Linear regression on the Southern Hemisphere\n",
    "x_values = southern_hemi_df[\"Lat\"]\n",
    "y_values = southern_hemi_df[\"Wind Speed\"]\n",
    "# Call the function.\n",
    "plot_linear_regression(x_values, y_values,\n",
    "                       'Linear Regression on the Southern Hemisphere \\n for Wind Speed', 'Wind Speed',(-50,30))"
   ]
  },
  {
   "cell_type": "code",
   "execution_count": null,
   "id": "5a0a478f",
   "metadata": {},
   "outputs": [],
   "source": [
    "linregress(southern_hemi_df[\"Lat\"],southern_hemi_df[\"Wind Speed\"])"
   ]
  },
  {
   "cell_type": "code",
   "execution_count": null,
   "id": "aceaa639",
   "metadata": {},
   "outputs": [],
   "source": []
  },
  {
   "cell_type": "code",
   "execution_count": null,
   "id": "909d50fc",
   "metadata": {},
   "outputs": [],
   "source": []
  },
  {
   "cell_type": "code",
   "execution_count": null,
   "id": "42c64552",
   "metadata": {},
   "outputs": [],
   "source": []
  },
  {
   "cell_type": "code",
   "execution_count": null,
   "id": "01875e08",
   "metadata": {},
   "outputs": [],
   "source": []
  }
 ],
 "metadata": {
  "kernelspec": {
   "display_name": "PythonData",
   "language": "python",
   "name": "pythondata"
  },
  "language_info": {
   "codemirror_mode": {
    "name": "ipython",
    "version": 3
   },
   "file_extension": ".py",
   "mimetype": "text/x-python",
   "name": "python",
   "nbconvert_exporter": "python",
   "pygments_lexer": "ipython3",
   "version": "3.7.11"
  }
 },
 "nbformat": 4,
 "nbformat_minor": 5
}
